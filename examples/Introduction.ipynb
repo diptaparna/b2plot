{
 "cells": [
  {
   "cell_type": "markdown",
   "metadata": {},
   "source": [
    "# Introduction to plotting "
   ]
  },
  {
   "cell_type": "code",
   "execution_count": null,
   "metadata": {},
   "outputs": [],
   "source": [
    "import b2plot\n",
    "import matplotlib.pyplot as plt\n",
    "%matplotlib inline"
   ]
  },
  {
   "cell_type": "code",
   "execution_count": null,
   "metadata": {
    "collapsed": true
   },
   "outputs": [],
   "source": [
    "plt.style.use('belle2')"
   ]
  },
  {
   "cell_type": "code",
   "execution_count": null,
   "metadata": {},
   "outputs": [],
   "source": [
    "%load_ext autoreload\n",
    "%autoreload 2"
   ]
  },
  {
   "cell_type": "markdown",
   "metadata": {},
   "source": [
    "### Creating some pseudo data"
   ]
  },
  {
   "cell_type": "code",
   "execution_count": null,
   "metadata": {
    "collapsed": true
   },
   "outputs": [],
   "source": [
    "import pandas as pd\n",
    "import numpy as np\n",
    "\n",
    "ns =30000\n",
    "nb =80000\n",
    "\n",
    "df = {'mass': np.append(np.random.random_sample(nb)*7 - 3.5, np.random.normal(0, 0.5, ns))}\n",
    "df['sig'] = np.append(np.zeros(nb),np.ones(ns), )\n",
    "df['exp'] = np.random.randint(0,8, ns+nb)\n",
    "df['gauss'] = np.append(np.random.random_sample(nb)*7 - 3.5, np.random.normal(-1, 0.5, ns))\n",
    "\n",
    "df = pd.DataFrame(df)\n",
    "\n",
    "df1 = {'mass': np.append(np.random.random_sample(nb)*7 - 3.5, np.random.random_sample(ns)*7 - 3.5 )}\n",
    "df1['sig'] = np.append(np.zeros(nb),np.ones(ns), )\n",
    "df1 = pd.DataFrame(df1)"
   ]
  },
  {
   "cell_type": "markdown",
   "metadata": {},
   "source": [
    "# Simple Plot"
   ]
  },
  {
   "cell_type": "code",
   "execution_count": 40,
   "metadata": {},
   "outputs": [
    {
     "data": {
      "image/png": "[encoded data removed]",
      "text/plain": [
       "<matplotlib.figure.Figure at 0x7f9f618e91d0>"
      ]
     },
     "metadata": {},
     "output_type": "display_data"
    }
   ],
   "source": [
    "b2plot.hist(df.mass, lw=2, scale=0.5, weights=np.random.normal(1,0.1,len(df)))\n",
    "b2plot.xlim()\n",
    "b2plot.labels(\"Mass\", \"Events\", root_style=1)"
   ]
  },
  {
   "cell_type": "code",
   "execution_count": 37,
   "metadata": {},
   "outputs": [
    {
     "name": "stderr",
     "output_type": "stream",
     "text": [
      "[autoreload of b2plot.functions failed: Traceback (most recent call last):\n",
      "  File \"/home/share/basf2/externals/v01-05-02/Linux_x86_64/common/lib/python3.6/site-packages/IPython/extensions/autoreload.py\", line 247, in check\n",
      "    superreload(m, reload, self.old_objects)\n",
      "  File \"/afs/desy.de/user/s/swehle/Tools/b2plot/src/b2plot/functions.py\", line 92\n",
      "    if isinstance(scale, )\n",
      "                         ^\n",
      "SyntaxError: invalid syntax\n",
      "]\n"
     ]
    },
    {
     "data": {
      "text/plain": [
       "False"
      ]
     },
     "execution_count": 37,
     "metadata": {},
     "output_type": "execute_result"
    }
   ],
   "source": [
    "isinstance(1, bool)"
   ]
  },
  {
   "cell_type": "code",
   "execution_count": null,
   "metadata": {},
   "outputs": [],
   "source": [
    "b2plot.figure()\n",
    "b2plot.hist(df.mass, color=1, style=0)\n",
    "b2plot.xlim()\n",
    "b2plot.labels(\"Mass\", \"Events\", root_style=1)"
   ]
  },
  {
   "cell_type": "code",
   "execution_count": null,
   "metadata": {},
   "outputs": [],
   "source": [
    "xx = df.sample(50).mass\n",
    "# b2plot.figure()\n",
    "b2plot.errorbar(xx, color='black')\n",
    "b2plot.xlim()\n",
    "plt.ylim(0)\n",
    "b2plot.labels(\"Mass\", \"Events\", 'GeV', root_style=1)"
   ]
  },
  {
   "cell_type": "code",
   "execution_count": null,
   "metadata": {},
   "outputs": [],
   "source": [
    "b2plot.errorbar(xx, box=True)\n",
    "b2plot.xlim()\n",
    "plt.ylim(0)\n",
    "b2plot.labels(\"Mass\", \"Events\", 'GeV',root_style=1)"
   ]
  },
  {
   "cell_type": "markdown",
   "metadata": {},
   "source": [
    "# Several Distrtibutions"
   ]
  },
  {
   "cell_type": "code",
   "execution_count": null,
   "metadata": {},
   "outputs": [],
   "source": [
    "b2plot.hist(df.mass,  style=0,)\n",
    "\n",
    "b2plot.hist(df1.mass,  lw=2)\n",
    "\n",
    "b2plot.xlim()\n",
    "b2plot.labels(\"Mass\", \"Events\",'' )"
   ]
  },
  {
   "cell_type": "code",
   "execution_count": null,
   "metadata": {},
   "outputs": [],
   "source": [
    "b2plot.sig_bkg_plot(df, \"mass\", 'sig')"
   ]
  },
  {
   "cell_type": "code",
   "execution_count": null,
   "metadata": {},
   "outputs": [],
   "source": [
    "b2plot.figure()\n",
    "b2plot.hist(df[df.sig==1].mass,  style=0, color=0, range=(-3,3), label='Signal')\n",
    "b2plot.hist(df1.mass,  style=1, color=1, label='MC1')\n",
    "b2plot.hist(np.random.normal(-3,1, 10000), style=2, color=3, label='NP')\n",
    "b2plot.xlim()\n",
    "plt.legend()\n",
    "b2plot.labels(\"Mass\", \"Events\",'GeV' ,1)"
   ]
  },
  {
   "cell_type": "code",
   "execution_count": null,
   "metadata": {},
   "outputs": [],
   "source": [
    "b2plot.stacked(df, \"mass\", 'exp', bins=50, lw=.25)\n",
    "# b2plot.errorbar(df1.mass, color='black')\n",
    "b2plot.xlim()"
   ]
  },
  {
   "cell_type": "code",
   "execution_count": null,
   "metadata": {},
   "outputs": [],
   "source": [
    "b2plot.stacked([df[df.exp==2].mass, \n",
    "                df[df.exp==3].mass], \n",
    "               bins=50, lw=.25)\n",
    "# b2plot.errorbar(df1.mass, color='black')\n",
    "b2plot.xlim()"
   ]
  },
  {
   "cell_type": "code",
   "execution_count": null,
   "metadata": {},
   "outputs": [],
   "source": [
    "b2plot.stacked(df, \"mass\", 'exp', bins=50, color=b2plot.b2helix(8), label=range(8))\n",
    "b2plot.errorbar(df.mass.values, color='black', weights=np.random.normal(1.01,0.9, len(df)), label=\"Data\")\n",
    "b2plot.xlim()\n",
    "plt.legend()\n",
    "b2plot.labels(\"$M$\", \"Events\", 'GeV', 1)"
   ]
  },
  {
   "cell_type": "code",
   "execution_count": null,
   "metadata": {
    "collapsed": true
   },
   "outputs": [],
   "source": [
    "from b2plot.analysis import plot_flatness\n"
   ]
  },
  {
   "cell_type": "code",
   "execution_count": null,
   "metadata": {},
   "outputs": [],
   "source": [
    "with plt.style.context(('belle2_modern')):\n",
    "    b2plot.figure()\n",
    "    plot_flatness(df.mass, df.gauss, xrange= (-4,3))\n",
    "    b2plot.xlim()"
   ]
  },
  {
   "cell_type": "code",
   "execution_count": null,
   "metadata": {
    "collapsed": true
   },
   "outputs": [],
   "source": []
  }
 ],
 "metadata": {
  "kernelspec": {
   "display_name": "Python [default]",
   "language": "python",
   "name": "python3"
  },
  "language_info": {
   "codemirror_mode": {
    "name": "ipython",
    "version": 3
   },
   "file_extension": ".py",
   "mimetype": "text/x-python",
   "name": "python",
   "nbconvert_exporter": "python",
   "pygments_lexer": "ipython3",
   "version": "3.5.3"
  }
 },
 "nbformat": 4,
 "nbformat_minor": 2
}
