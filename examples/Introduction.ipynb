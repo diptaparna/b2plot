{
 "cells": [
  {
   "cell_type": "markdown",
   "metadata": {},
   "source": [
    "# Introduction to plotting "
   ]
  },
  {
   "cell_type": "code",
   "execution_count": 1,
   "metadata": {},
   "outputs": [
    {
     "name": "stderr",
     "output_type": "stream",
     "text": [
      "\n",
      "Bad key \"lines.lw\" on line 23 in\n",
      "/afs/desy.de/user/s/swehle/.config/matplotlib/stylelib/belle2_wg1.mplstyle.\n",
      "You probably need to get an updated matplotlibrc file from\n",
      "http://github.com/matplotlib/matplotlib/blob/master/matplotlibrc.template\n",
      "or from the matplotlib source distribution\n",
      "/cvmfs/belle.cern.ch/el7/externals/v01-07-01/Linux_x86_64/common/lib/python3.6/site-packages/matplotlib/style/core.py:167: UserWarning: In /afs/desy.de/user/s/swehle/.config/matplotlib/stylelib/belle2_wg1.mplstyle: Bad val \"12,\" on line #14\n",
      "\t\"axes.labelsize              : 12,\n",
      "\"\n",
      "\tin file \"/afs/desy.de/user/s/swehle/.config/matplotlib/stylelib/belle2_wg1.mplstyle\"\n",
      "\tKey axes.labelsize: 12, is not a valid font size. Valid font sizes are xx-small, x-small, small, medium, large, x-large, xx-large, smaller, larger.\n",
      "  styles = read_style_directory(stylelib_path)\n",
      "/cvmfs/belle.cern.ch/el7/externals/v01-07-01/Linux_x86_64/common/lib/python3.6/site-packages/matplotlib/style/core.py:167: UserWarning: In /afs/desy.de/user/s/swehle/.config/matplotlib/stylelib/belle2_wg1.mplstyle: Bad val \"cycler('color', ['\" on line #16\n",
      "\t\"axes.prop_cycle             : cycler('color', ['#3465a4', '#f57900', '#73d216', '#cc0000', '#75507b', '#c17d11', '#edd400', '#555753', '#d3d7cf'])\n",
      "\"\n",
      "\tin file \"/afs/desy.de/user/s/swehle/.config/matplotlib/stylelib/belle2_wg1.mplstyle\"\n",
      "\tKey axes.prop_cycle: 'cycler('color', ['' is not a valid cycler construction: EOL while scanning string literal (<string>, line 1)\n",
      "  styles = read_style_directory(stylelib_path)\n",
      "/cvmfs/belle.cern.ch/el7/externals/v01-07-01/Linux_x86_64/common/lib/python3.6/site-packages/matplotlib/style/core.py:167: UserWarning: In /afs/desy.de/user/s/swehle/.config/matplotlib/stylelib/belle2_wg1.mplstyle: Bad val \"(-4, 4)\" on line #17\n",
      "\t\"axes.formatter.limits       : (-4, 4)\n",
      "\"\n",
      "\tin file \"/afs/desy.de/user/s/swehle/.config/matplotlib/stylelib/belle2_wg1.mplstyle\"\n",
      "\tKey axes.formatter.limits: Could not convert all entries to ints\n",
      "  styles = read_style_directory(stylelib_path)\n",
      "/cvmfs/belle.cern.ch/el7/externals/v01-07-01/Linux_x86_64/common/lib/python3.6/site-packages/matplotlib/style/core.py:167: UserWarning: In /afs/desy.de/user/s/swehle/.config/matplotlib/stylelib/belle2_wg1.mplstyle: Bad val \"'large'\" on line #19\n",
      "\t\"axes.titlesize              : 'large'\n",
      "\"\n",
      "\tin file \"/afs/desy.de/user/s/swehle/.config/matplotlib/stylelib/belle2_wg1.mplstyle\"\n",
      "\tKey axes.titlesize: 'large' is not a valid font size. Valid font sizes are xx-small, x-small, small, medium, large, x-large, xx-large, smaller, larger.\n",
      "  styles = read_style_directory(stylelib_path)\n"
     ]
    },
    {
     "name": "stdout",
     "output_type": "stream",
     "text": [
      "For optimal usage set `plt.style.use('belle2')`\n"
     ]
    }
   ],
   "source": [
    "import b2plot\n",
    "import matplotlib.pyplot as plt\n",
    "%matplotlib inline"
   ]
  },
  {
   "cell_type": "code",
   "execution_count": 4,
   "metadata": {},
   "outputs": [
    {
     "name": "stderr",
     "output_type": "stream",
     "text": [
      "\n",
      "Bad key \"lines.lw\" on line 23 in\n",
      "/afs/desy.de/user/s/swehle/.config/matplotlib/stylelib/belle2_wg1.mplstyle.\n",
      "You probably need to get an updated matplotlibrc file from\n",
      "http://github.com/matplotlib/matplotlib/blob/master/matplotlibrc.template\n",
      "or from the matplotlib source distribution\n",
      "/cvmfs/belle.cern.ch/el7/externals/v01-07-01/Linux_x86_64/common/lib/python3.6/site-packages/matplotlib/style/core.py:167: UserWarning: In /afs/desy.de/user/s/swehle/.config/matplotlib/stylelib/belle2_wg1.mplstyle: Bad val \"cycler('color', ['\" on line #16\n",
      "\t\"axes.prop_cycle             : cycler('color', ['#3465a4', '#f57900', '#73d216', '#cc0000', '#75507b', '#c17d11', '#edd400', '#555753', '#d3d7cf'])\n",
      "\"\n",
      "\tin file \"/afs/desy.de/user/s/swehle/.config/matplotlib/stylelib/belle2_wg1.mplstyle\"\n",
      "\tKey axes.prop_cycle: 'cycler('color', ['' is not a valid cycler construction: EOL while scanning string literal (<string>, line 1)\n",
      "  styles = read_style_directory(stylelib_path)\n",
      "/cvmfs/belle.cern.ch/el7/externals/v01-07-01/Linux_x86_64/common/lib/python3.6/site-packages/matplotlib/style/core.py:167: UserWarning: In /afs/desy.de/user/s/swehle/.config/matplotlib/stylelib/belle2_wg1.mplstyle: Bad val \"(-4, 4)\" on line #17\n",
      "\t\"axes.formatter.limits       : (-4, 4)\n",
      "\"\n",
      "\tin file \"/afs/desy.de/user/s/swehle/.config/matplotlib/stylelib/belle2_wg1.mplstyle\"\n",
      "\tKey axes.formatter.limits: Could not convert all entries to ints\n",
      "  styles = read_style_directory(stylelib_path)\n"
     ]
    }
   ],
   "source": [
    "plt.style.reload_library()"
   ]
  },
  {
   "cell_type": "code",
   "execution_count": 2,
   "metadata": {},
   "outputs": [],
   "source": [
    "plt.style.use('belle2')"
   ]
  },
  {
   "cell_type": "code",
   "execution_count": 3,
   "metadata": {},
   "outputs": [],
   "source": [
    "%load_ext autoreload\n",
    "%autoreload 2"
   ]
  },
  {
   "cell_type": "markdown",
   "metadata": {},
   "source": [
    "### Creating some pseudo data"
   ]
  },
  {
   "cell_type": "code",
   "execution_count": 4,
   "metadata": {},
   "outputs": [],
   "source": [
    "import pandas as pd\n",
    "import numpy as np\n",
    "\n",
    "ns =30000\n",
    "nb =80000\n",
    "\n",
    "df = {'mass': np.append(np.random.random_sample(nb)*7 - 3.5, np.random.normal(0, 0.5, ns))}\n",
    "df['sig'] = np.append(np.zeros(nb),np.ones(ns), )\n",
    "df['exp'] = np.random.randint(0,8, ns+nb)\n",
    "df['gauss'] = np.append(np.random.random_sample(nb)*7 - 3.5, np.random.normal(-1, 0.5, ns))\n",
    "\n",
    "df = pd.DataFrame(df)\n",
    "\n",
    "df1 = {'mass': np.append(np.random.random_sample(nb)*7 - 3.5, np.random.random_sample(ns)*7 - 3.5 )}\n",
    "df1['sig'] = np.append(np.zeros(nb),np.ones(ns), )\n",
    "df1 = pd.DataFrame(df1)"
   ]
  },
  {
   "cell_type": "markdown",
   "metadata": {},
   "source": [
    "# Simple Plot"
   ]
  },
  {
   "cell_type": "code",
   "execution_count": 10,
   "metadata": {},
   "outputs": [
    {
     "data": {
      "text/plain": [
       "[]"
      ]
     },
     "execution_count": 10,
     "metadata": {},
     "output_type": "execute_result"
    },
    {
     "data": {
      "image/png": "[encoded data removed]",
      "text/plain": [
       "<matplotlib.figure.Figure at 0x7fd36a2b4c88>"
      ]
     },
     "metadata": {},
     "output_type": "display_data"
    }
   ],
   "source": [
    "_ = b2plot.hist(df.mass, lw=2)\n",
    "plt.semilogy()"
   ]
  },
  {
   "cell_type": "code",
   "execution_count": 5,
   "metadata": {},
   "outputs": [
    {
     "data": {
      "image/png": "[encoded data removed]",
      "text/plain": [
       "<matplotlib.figure.Figure at 0x7fd36c750080>"
      ]
     },
     "metadata": {},
     "output_type": "display_data"
    }
   ],
   "source": [
    "b2plot.hist(df.mass, lw=2, scale=0.5, weights=np.random.normal(1,0.1,len(df)))\n",
    "b2plot.xlim()\n",
    "b2plot.labels(\"Mass\", \"Events\", root_style=1)"
   ]
  },
  {
   "cell_type": "code",
   "execution_count": 37,
   "metadata": {},
   "outputs": [
    {
     "name": "stderr",
     "output_type": "stream",
     "text": [
      "[autoreload of b2plot.functions failed: Traceback (most recent call last):\n",
      "  File \"/home/share/basf2/externals/v01-05-02/Linux_x86_64/common/lib/python3.6/site-packages/IPython/extensions/autoreload.py\", line 247, in check\n",
      "    superreload(m, reload, self.old_objects)\n",
      "  File \"/afs/desy.de/user/s/swehle/Tools/b2plot/src/b2plot/functions.py\", line 92\n",
      "    if isinstance(scale, )\n",
      "                         ^\n",
      "SyntaxError: invalid syntax\n",
      "]\n"
     ]
    },
    {
     "data": {
      "text/plain": [
       "False"
      ]
     },
     "execution_count": 37,
     "metadata": {},
     "output_type": "execute_result"
    }
   ],
   "source": [
    "isinstance(1, bool)"
   ]
  },
  {
   "cell_type": "code",
   "execution_count": null,
   "metadata": {},
   "outputs": [],
   "source": [
    "b2plot.figure()\n",
    "b2plot.hist(df.mass, color=1, style=0)\n",
    "b2plot.xlim()\n",
    "b2plot.labels(\"Mass\", \"Events\", root_style=1)"
   ]
  },
  {
   "cell_type": "code",
   "execution_count": null,
   "metadata": {},
   "outputs": [],
   "source": [
    "xx = df.sample(50).mass\n",
    "# b2plot.figure()\n",
    "b2plot.errorbar(xx, color='black')\n",
    "b2plot.xlim()\n",
    "plt.ylim(0)\n",
    "b2plot.labels(\"Mass\", \"Events\", 'GeV', root_style=1)"
   ]
  },
  {
   "cell_type": "code",
   "execution_count": null,
   "metadata": {},
   "outputs": [],
   "source": [
    "b2plot.errorbar(xx, box=True)\n",
    "b2plot.xlim()\n",
    "plt.ylim(0)\n",
    "b2plot.labels(\"Mass\", \"Events\", 'GeV',root_style=1)"
   ]
  },
  {
   "cell_type": "markdown",
   "metadata": {},
   "source": [
    "# Several Distrtibutions"
   ]
  },
  {
   "cell_type": "code",
   "execution_count": null,
   "metadata": {},
   "outputs": [],
   "source": [
    "b2plot.hist(df.mass,  style=0,)\n",
    "\n",
    "b2plot.hist(df1.mass,  lw=2)\n",
    "\n",
    "b2plot.xlim()\n",
    "b2plot.labels(\"Mass\", \"Events\",'' )"
   ]
  },
  {
   "cell_type": "code",
   "execution_count": null,
   "metadata": {},
   "outputs": [],
   "source": [
    "b2plot.sig_bkg_plot(df, \"mass\", 'sig')"
   ]
  },
  {
   "cell_type": "code",
   "execution_count": null,
   "metadata": {},
   "outputs": [],
   "source": [
    "b2plot.figure()\n",
    "b2plot.hist(df[df.sig==1].mass,  style=0, color=0, range=(-3,3), label='Signal')\n",
    "b2plot.hist(df1.mass,  style=1, color=1, label='MC1')\n",
    "b2plot.hist(np.random.normal(-3,1, 10000), style=2, color=3, label='NP')\n",
    "b2plot.xlim()\n",
    "plt.legend()\n",
    "b2plot.labels(\"Mass\", \"Events\",'GeV' ,1)"
   ]
  },
  {
   "cell_type": "code",
   "execution_count": null,
   "metadata": {},
   "outputs": [],
   "source": [
    "b2plot.stacked(df, \"mass\", 'exp', bins=50, lw=.25)\n",
    "# b2plot.errorbar(df1.mass, color='black')\n",
    "b2plot.xlim()"
   ]
  },
  {
   "cell_type": "code",
   "execution_count": null,
   "metadata": {},
   "outputs": [],
   "source": [
    "b2plot.stacked([df[df.exp==2].mass, \n",
    "                df[df.exp==3].mass], \n",
    "               bins=50, lw=.25)\n",
    "# b2plot.errorbar(df1.mass, color='black')\n",
    "b2plot.xlim()"
   ]
  },
  {
   "cell_type": "code",
   "execution_count": null,
   "metadata": {},
   "outputs": [],
   "source": [
    "b2plot.stacked(df, \"mass\", 'exp', bins=50, color=b2plot.b2helix(8), label=range(8))\n",
    "b2plot.errorbar(df.mass.values, color='black', weights=np.random.normal(1.01,0.9, len(df)), label=\"Data\")\n",
    "b2plot.xlim()\n",
    "plt.legend()\n",
    "b2plot.labels(\"$M$\", \"Events\", 'GeV', 1)"
   ]
  },
  {
   "cell_type": "code",
   "execution_count": null,
   "metadata": {
    "collapsed": true
   },
   "outputs": [],
   "source": [
    "from b2plot.analysis import plot_flatness\n"
   ]
  },
  {
   "cell_type": "code",
   "execution_count": null,
   "metadata": {},
   "outputs": [],
   "source": [
    "with plt.style.context(('belle2_modern')):\n",
    "    b2plot.figure()\n",
    "    plot_flatness(df.mass, df.gauss, xrange= (-4,3))\n",
    "    b2plot.xlim()"
   ]
  },
  {
   "cell_type": "code",
   "execution_count": 27,
   "metadata": {},
   "outputs": [
    {
     "name": "stderr",
     "output_type": "stream",
     "text": [
      "/cvmfs/belle.cern.ch/sl6/externals/v01-06-01/Linux_x86_64/common/lib/python3.6/site-packages/numpy/core/fromnumeric.py:52: FutureWarning: reshape is deprecated and will raise in a subsequent release. Please use .values.reshape(...) instead\n",
      "  return getattr(obj, method)(*args, **kwds)\n"
     ]
    },
    {
     "data": {
      "image/png": "[encoded data removed]",
      "text/plain": [
       "<matplotlib.figure.Figure at 0x7fd369a72630>"
      ]
     },
     "metadata": {},
     "output_type": "display_data"
    }
   ],
   "source": [
    "y,x,h = b2plot.stacked([df[df.exp==2].mass, \n",
    "                df[df.exp==3].mass], \n",
    "               bins=50, lw=.25)\n",
    "b2plot.errorbar((x[:-1]+ x[1:])/2, y, np.sqrt(y) )"
   ]
  },
  {
   "cell_type": "code",
   "execution_count": 21,
   "metadata": {},
   "outputs": [
    {
     "data": {
      "text/plain": [
       "50"
      ]
     },
     "execution_count": 21,
     "metadata": {},
     "output_type": "execute_result"
    }
   ],
   "source": [
    "len(np.sqrt(y))"
   ]
  },
  {
   "cell_type": "code",
   "execution_count": 18,
   "metadata": {},
   "outputs": [
    {
     "data": {
      "text/plain": [
       "50"
      ]
     },
     "execution_count": 18,
     "metadata": {},
     "output_type": "execute_result"
    }
   ],
   "source": [
    "len(y)"
   ]
  },
  {
   "cell_type": "code",
   "execution_count": 26,
   "metadata": {},
   "outputs": [
    {
     "data": {
      "text/plain": [
       "array([-3.42914666, -3.28921358, -3.1492805 , -3.00934742, -2.86941434,\n",
       "       -2.72948126, -2.58954818, -2.4496151 , -2.30968203, -2.16974895,\n",
       "       -2.02981587, -1.88988279, -1.74994971, -1.61001663, -1.47008355,\n",
       "       -1.33015047, -1.19021739, -1.05028432, -0.91035124, -0.77041816,\n",
       "       -0.63048508, -0.490552  , -0.35061892, -0.21068584, -0.07075276,\n",
       "        0.06918032,  0.20911339,  0.34904647,  0.48897955,  0.62891263,\n",
       "        0.76884571,  0.90877879,  1.04871187,  1.18864495,  1.32857803,\n",
       "        1.4685111 ,  1.60844418,  1.74837726,  1.88831034,  2.02824342,\n",
       "        2.1681765 ,  2.30810958,  2.44804266,  2.58797573,  2.72790881,\n",
       "        2.86784189,  3.00777497,  3.14770805,  3.28764113,  3.42757421])"
      ]
     },
     "execution_count": 26,
     "metadata": {},
     "output_type": "execute_result"
    }
   ],
   "source": [
    "(x[:-1]+ x[1:])/2"
   ]
  },
  {
   "cell_type": "code",
   "execution_count": null,
   "metadata": {},
   "outputs": [],
   "source": [
    "x[:]"
   ]
  },
  {
   "cell_type": "code",
   "execution_count": 1,
   "metadata": {},
   "outputs": [],
   "source": [
    "#@title Examples\n",
    "\n",
    "text = 'value' #@param \n",
    "date_input = '2018-03-22' #@param {type:\"date\"}\n",
    "number_slider = -0.4 #@param {type:\"slider\", min:-1, max:1, step:0.1}\n",
    "dropdown = '1st option' #@param [\"1st option\", \"2nd option\", \"3rd option\"]"
   ]
  },
  {
   "cell_type": "code",
   "execution_count": null,
   "metadata": {},
   "outputs": [],
   "source": []
  }
 ],
 "metadata": {
  "kernelspec": {
   "display_name": "Python 3 (Belle2)",
   "language": "python",
   "name": "python3"
  },
  "language_info": {
   "codemirror_mode": {
    "name": "ipython",
    "version": 3
   },
   "file_extension": ".py",
   "mimetype": "text/x-python",
   "name": "python",
   "nbconvert_exporter": "python",
   "pygments_lexer": "ipython3",
   "version": "3.6.6"
  }
 },
 "nbformat": 4,
 "nbformat_minor": 2
}
